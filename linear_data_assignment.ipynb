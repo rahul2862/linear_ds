{
 "cells": [
  {
   "cell_type": "markdown",
   "id": "a9518db5",
   "metadata": {},
   "source": [
    "# Q1.Write a program to find all pairs of an integer array whose sum is equal to a given number?"
   ]
  },
  {
   "cell_type": "code",
   "execution_count": 2,
   "id": "66e03655",
   "metadata": {},
   "outputs": [],
   "source": [
    "def find_pairs(arr, target_sum):\n",
    "    result = []\n",
    "    for i in range(len(arr)):\n",
    "        for j in range(i+1, len(arr)):\n",
    "            if arr[i] + arr[j] == target_sum:\n",
    "                result.append((arr[i], arr[j]))\n",
    "                return result"
   ]
  },
  {
   "cell_type": "code",
   "execution_count": 3,
   "id": "f25ec3ed",
   "metadata": {},
   "outputs": [
    {
     "name": "stdout",
     "output_type": "stream",
     "text": [
      "[(1, 5), (2, 4)]\n"
     ]
    }
   ],
   "source": [
    "arr = [1, 2, 3, 4, 5]\n",
    "target_sum = 6\n",
    "result = find_pairs(arr,target_sum)\n",
    "print(result)\n"
   ]
  },
  {
   "cell_type": "markdown",
   "id": "778c9f8f",
   "metadata": {},
   "source": [
    "# Q2. Write a program to reverse an array in place? In place means you cannot create a new array. You have to update the original array."
   ]
  },
  {
   "cell_type": "code",
   "execution_count": 13,
   "id": "202a7ba1",
   "metadata": {},
   "outputs": [],
   "source": [
    "def reverse_array(arr):\n",
    "    start = 0\n",
    "    end = len(arr) - 1\n",
    "    while start < end:\n",
    "        arr[start], arr[end] = arr[end], arr[start]\n",
    "        start += 1\n",
    "        end -= 1"
   ]
  },
  {
   "cell_type": "code",
   "execution_count": 14,
   "id": "ba773edb",
   "metadata": {},
   "outputs": [
    {
     "name": "stdout",
     "output_type": "stream",
     "text": [
      "[5, 4, 3, 2, 1]\n"
     ]
    }
   ],
   "source": [
    "arr = [1, 2, 3, 4, 5]\n",
    "reverse_array(arr)\n",
    "print(arr)"
   ]
  },
  {
   "cell_type": "markdown",
   "id": "cb4caac5",
   "metadata": {},
   "source": [
    "# Q3. Write a program to check if two strings are a rotation of each other?"
   ]
  },
  {
   "cell_type": "code",
   "execution_count": 16,
   "id": "6216f9b1",
   "metadata": {},
   "outputs": [],
   "source": [
    "def are_rotations(str1, str2):\n",
    "    if len(str1) != len(str2):\n",
    "        return False\n",
    "    temp = str1 + str1\n",
    "    if temp.count(str2) > 0:\n",
    "        return True\n",
    "    else:\n",
    "        return False\n"
   ]
  },
  {
   "cell_type": "code",
   "execution_count": null,
   "id": "0e847edf",
   "metadata": {},
   "outputs": [
    {
     "name": "stdout",
     "output_type": "stream",
     "text": [
      "True\n"
     ]
    }
   ],
   "source": [
    "str1 = \"ABCD\"\n",
    "str2 = \"CDAB\"\n",
    "result = are_rotations(str1, str2)\n",
    "print(result)\n"
   ]
  },
  {
   "cell_type": "markdown",
   "id": "937e7f60",
   "metadata": {},
   "source": [
    "# Q4. Write a program to print the first non-repeated character from a string?\n",
    "\n"
   ]
  },
  {
   "cell_type": "code",
   "execution_count": 18,
   "id": "84a62b1c",
   "metadata": {},
   "outputs": [],
   "source": [
    "def first_non_repeated_char(string):\n",
    "    char_count = {}\n",
    "    for char in string:\n",
    "        if char in char_count:\n",
    "            char_count[char] += 1\n",
    "        else:\n",
    "            char_count[char] = 1\n",
    "    for char in string:\n",
    "        if char_count[char] == 1:\n",
    "            return char\n",
    "    return None"
   ]
  },
  {
   "cell_type": "code",
   "execution_count": null,
   "id": "732845af",
   "metadata": {},
   "outputs": [
    {
     "name": "stdout",
     "output_type": "stream",
     "text": [
      "v\n"
     ]
    }
   ],
   "source": [
    "string = \"raveendran\"\n",
    "result = first_non_repeated_char(string)\n",
    "print(result)"
   ]
  },
  {
   "cell_type": "markdown",
   "id": "893fef6c",
   "metadata": {},
   "source": [
    "# Q5. Read about the Tower of Hanoi algorithm. Write a program to implement it."
   ]
  },
  {
   "cell_type": "code",
   "execution_count": 22,
   "id": "a190dc76",
   "metadata": {},
   "outputs": [
    {
     "name": "stdout",
     "output_type": "stream",
     "text": [
      "Move disk 1 from A to C\n",
      "Move disk 2 from A to B\n",
      "Move disk 1 from C to B\n",
      "Move disk 3 from A to C\n",
      "Move disk 1 from B to A\n",
      "Move disk 2 from B to C\n",
      "Move disk 1 from A to C\n"
     ]
    }
   ],
   "source": [
    "def tower_of_hanoi(n, source, auxiliary, target):\n",
    "    if n > 0:\n",
    "        tower_of_hanoi(n - 1, source, target, auxiliary)\n",
    "        print(f'Move disk {n} from {source} to {target}')\n",
    "        tower_of_hanoi(n - 1, auxiliary, source, target)\n",
    "\n",
    "n = 3\n",
    "tower_of_hanoi(n, 'A', 'B', 'C')"
   ]
  },
  {
   "cell_type": "markdown",
   "id": "30f7cf41",
   "metadata": {},
   "source": [
    "# Q6. Read about infix, prefix, and postfix expressions. Write a program to convert postfix to prefix expression."
   ]
  },
  {
   "cell_type": "code",
   "execution_count": 23,
   "id": "ce92b3cd",
   "metadata": {},
   "outputs": [
    {
     "name": "stdout",
     "output_type": "stream",
     "text": [
      "Prefix :  *-A/BC-/AKL\n"
     ]
    }
   ],
   "source": [
    "def is_operand(x):\n",
    "    return x.isalpha()\n",
    "\n",
    "def postfix_to_prefix(postfix):\n",
    "    stack = []\n",
    "    for char in postfix:\n",
    "        if is_operand(char):\n",
    "            stack.append(char)\n",
    "        else:\n",
    "            op1 = stack.pop()\n",
    "            op2 = stack.pop()\n",
    "            stack.append(char + op2 + op1)\n",
    "    return stack[0]\n",
    "\n",
    "postfix = \"ABC/-AK/L-*\"\n",
    "print(\"Prefix : \", postfix_to_prefix(postfix))"
   ]
  },
  {
   "cell_type": "markdown",
   "id": "b9166f4b",
   "metadata": {},
   "source": [
    "# Q7. Write a program to convert prefix expression to infix expression."
   ]
  },
  {
   "cell_type": "code",
   "execution_count": 25,
   "id": "4759c44c",
   "metadata": {},
   "outputs": [
    {
     "name": "stdout",
     "output_type": "stream",
     "text": [
      "Infix :  ((A-(B/C))*((A/K)-L))\n"
     ]
    }
   ],
   "source": [
    "def is_operand(x):\n",
    "    return x.isalpha()\n",
    "\n",
    "def prefix_to_infix(prefix):\n",
    "    stack = []\n",
    "    for char in prefix[::-1]:\n",
    "        if is_operand(char):\n",
    "            stack.append(char)\n",
    "        else:\n",
    "            op1 = stack.pop()\n",
    "            op2 = stack.pop()\n",
    "            stack.append(\"(\" + op1 + char + op2 + \")\")\n",
    "    return stack[0]\n",
    "\n",
    "prefix = \"*-A/BC-/AKL\"\n",
    "print(\"Infix : \", prefix_to_infix(prefix))"
   ]
  },
  {
   "cell_type": "markdown",
   "id": "ce48bf21",
   "metadata": {},
   "source": [
    "# Q8. Write a program to check if all the brackets are closed in a given code snippet."
   ]
  },
  {
   "cell_type": "code",
   "execution_count": 30,
   "id": "3b1f2860",
   "metadata": {},
   "outputs": [
    {
     "name": "stdout",
     "output_type": "stream",
     "text": [
      "True\n"
     ]
    }
   ],
   "source": [
    "def are_brackets_balanced(code):\n",
    "    stack = []\n",
    "    for char in code:\n",
    "        if char in ['(', '{', '[']:\n",
    "            stack.append(char)\n",
    "        elif char in [')', '}', ']']:\n",
    "            if not stack:\n",
    "                return False\n",
    "            top = stack.pop()\n",
    "            if char == ')' and top != '(':\n",
    "                return False\n",
    "            elif char == '}' and top != '{':\n",
    "                return False\n",
    "            elif char == ']' and top != '[':\n",
    "                return False\n",
    "    return not stack\n",
    "\n",
    "code = \"int main() { return 0; }\"\n",
    "print(are_brackets_balanced(code))"
   ]
  },
  {
   "cell_type": "markdown",
   "id": "485a2c34",
   "metadata": {},
   "source": [
    "# Q9. Write a program to reverse a stack."
   ]
  },
  {
   "cell_type": "code",
   "execution_count": 27,
   "id": "78c1bb85",
   "metadata": {},
   "outputs": [
    {
     "name": "stdout",
     "output_type": "stream",
     "text": [
      "[4, 3, 2, 1]\n"
     ]
    }
   ],
   "source": [
    "def insert_at_bottom(stack, item):\n",
    "    if not stack:\n",
    "        stack.append(item)\n",
    "    else:\n",
    "        temp = stack.pop()\n",
    "        insert_at_bottom(stack, item)\n",
    "        stack.append(temp)\n",
    "\n",
    "def reverse_stack(stack):\n",
    "    if stack:\n",
    "        temp = stack.pop()\n",
    "        reverse_stack(stack)\n",
    "        insert_at_bottom(stack, temp)\n",
    "\n",
    "stack = [1, 2, 3, 4]\n",
    "reverse_stack(stack)\n",
    "print(stack)"
   ]
  },
  {
   "cell_type": "markdown",
   "id": "ef9330f8",
   "metadata": {},
   "source": [
    "# Q10. Write a program to find the smallest number using a stack.\n",
    "\n"
   ]
  },
  {
   "cell_type": "code",
   "execution_count": 41,
   "id": "d19a85c9",
   "metadata": {},
   "outputs": [
    {
     "name": "stdout",
     "output_type": "stream",
     "text": [
      "-7\n"
     ]
    }
   ],
   "source": [
    "def find_min(stack):\n",
    "    min_value = float('inf')\n",
    "    while stack:\n",
    "        temp = stack.pop()\n",
    "        if temp < min_value:\n",
    "            min_value = temp\n",
    "    return min_value\n",
    "\n",
    "stack = [3,-7,-5,5,-1,2, 1,4,4,5]\n",
    "print(find_min(stack))"
   ]
  },
  {
   "cell_type": "code",
   "execution_count": null,
   "id": "b2be2baa",
   "metadata": {},
   "outputs": [],
   "source": []
  }
 ],
 "metadata": {
  "kernelspec": {
   "display_name": "Python 3 (ipykernel)",
   "language": "python",
   "name": "python3"
  },
  "language_info": {
   "codemirror_mode": {
    "name": "ipython",
    "version": 3
   },
   "file_extension": ".py",
   "mimetype": "text/x-python",
   "name": "python",
   "nbconvert_exporter": "python",
   "pygments_lexer": "ipython3",
   "version": "3.10.9"
  }
 },
 "nbformat": 4,
 "nbformat_minor": 5
}
